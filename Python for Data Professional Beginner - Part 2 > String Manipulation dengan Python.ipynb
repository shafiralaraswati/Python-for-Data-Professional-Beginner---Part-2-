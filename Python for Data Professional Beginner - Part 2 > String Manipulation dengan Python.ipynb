{
 "cells": [
  {
   "cell_type": "code",
   "execution_count": 1,
   "id": "228550c3",
   "metadata": {},
   "outputs": [
    {
     "name": "stdout",
     "output_type": "stream",
     "text": [
      "SePatu NiKo\n",
      "SePatu \n",
      "NiKo\n",
      "11\n"
     ]
    }
   ],
   "source": [
    "nama_produk = \"Sepatu Niko\"\n",
    "nama_produk = nama_produk[:2] + \"P\" + nama_produk[3:9] + \"K\" + nama_produk[-1]\n",
    "print(nama_produk)\n",
    "print(nama_produk[:7])\n",
    "print(nama_produk[7:])\n",
    "print(len(nama_produk))"
   ]
  },
  {
   "cell_type": "code",
   "execution_count": 2,
   "id": "157b4a9b",
   "metadata": {},
   "outputs": [
    {
     "name": "stdout",
     "output_type": "stream",
     "text": [
      "John Doee\n",
      "Hi, saya John Doeeumur27 tahun, tinggal di Jl. Anggrek No. 100.\n"
     ]
    }
   ],
   "source": [
    "nama_depan = 'John'\n",
    "nama_belakang = 'Doee'\n",
    "nama_lengkap = nama_depan + ' ' + nama_belakang\n",
    "print(nama_lengkap)\n",
    "umur = '27 tahun'\n",
    "alamat = 'Jl. Anggrek No. 100'\n",
    "nama_umur_alamat = 'Hi, saya ' + nama_lengkap + 'umur' + umur + ', tinggal di ' + alamat + '.'\n",
    "print(nama_umur_alamat)"
   ]
  },
  {
   "cell_type": "code",
   "execution_count": 3,
   "id": "3e3fe9ec",
   "metadata": {},
   "outputs": [
    {
     "name": "stdout",
     "output_type": "stream",
     "text": [
      ">>> Fitur .strip()\n",
      "halo, selamat siang!\n",
      ">>> Fitur .lstrip()\n",
      "halo, selamat siang!   \n",
      ">>> Fitur .rstrip()\n",
      " halo, selamat siang!\n"
     ]
    }
   ],
   "source": [
    "# Fitur .strip()\n",
    "print(\">>> Fitur .strip()\")\n",
    "kata_sambutan = ' halo, selamat siang!   '\n",
    "kata_sambutan = kata_sambutan.strip()\n",
    "print(kata_sambutan)\n",
    "# Fitur .lstrip()\n",
    "print(\">>> Fitur .lstrip()\")\n",
    "kata_sambutan = ' halo, selamat siang!   '\n",
    "kata_sambutan = kata_sambutan.lstrip()\n",
    "print(kata_sambutan)\n",
    "# Fitur .rstrip()\n",
    "print(\">>> Fitur .rstrip()\")\n",
    "kata_sambutan = ' halo, selamat siang!   '\n",
    "kata_sambutan = kata_sambutan.rstrip()\n",
    "print(kata_sambutan)"
   ]
  },
  {
   "cell_type": "code",
   "execution_count": 4,
   "id": "67433b5f",
   "metadata": {},
   "outputs": [
    {
     "name": "stdout",
     "output_type": "stream",
     "text": [
      ">>> Fitur .capitalize()\n",
      "Belajar bahasa python\n",
      ">>> Fitur .lower()\n",
      "belajar bahasa python.\n",
      ">>> Fitur .upper()\n",
      "BELAJAR BAHASA PYTHON.\n"
     ]
    }
   ],
   "source": [
    "# Fitur .capitalize()\n",
    "print(\">>> Fitur .capitalize()\")\n",
    "judul_buku = 'belajar bahasa Python'\n",
    "print(judul_buku.capitalize())\n",
    "# Fitur .lower()\n",
    "print(\">>> Fitur .lower()\")\n",
    "judul_buku = 'Belajar Bahasa PYTHON.'\n",
    "print(judul_buku.lower())\n",
    "# Fitur .upper()\n",
    "print(\">>> Fitur .upper()\")\n",
    "judul_buku = 'Belajar Bahasa PYTHON.'\n",
    "print(judul_buku.upper())"
   ]
  },
  {
   "cell_type": "code",
   "execution_count": 5,
   "id": "f8f8a317",
   "metadata": {},
   "outputs": [
    {
     "name": "stdout",
     "output_type": "stream",
     "text": [
      ">>> Fitur .split()\n",
      "['ani ', ' budi ', ' wati ', ' johan']\n",
      "['ani', 'dan', 'budi', 'dan', 'wati', 'dan', 'johan']\n",
      ">>> Fitur .join()\n",
      "Ricky dan Peter dan Jordan\n",
      ">>> Fitur .replace()\n",
      "jeruk malang jeruk yang paling segar, jeruk sehat, jeruk nikmat\n"
     ]
    }
   ],
   "source": [
    "# Fitur .split()\n",
    "print(\">>> Fitur .split()\")\n",
    "bilangan = \"ani dan budi dan wati dan johan\"\n",
    "karakter = bilangan.split(\"dan\")\n",
    "print(karakter)\n",
    "kata = bilangan.split(\" \")\n",
    "print(kata)\n",
    "# Fitur .join()\n",
    "print(\">>> Fitur .join()\")\n",
    "pemisah = \" dan \"\n",
    "karakter = [\"Ricky\", \"Peter\", \"Jordan\"]\n",
    "kalimat = pemisah.join(karakter)\n",
    "print(kalimat)\n",
    "# Fitur .replace()\n",
    "print(\">>> Fitur .replace()\")\n",
    "kalimat = \"apel malang apel yang paling segar, apel sehat, apel nikmat\"\n",
    "kalimat = kalimat.replace(\"apel\", \"jeruk\")\n",
    "print(kalimat)"
   ]
  },
  {
   "cell_type": "code",
   "execution_count": 6,
   "id": "05785469",
   "metadata": {},
   "outputs": [
    {
     "name": "stdout",
     "output_type": "stream",
     "text": [
      ">>> Fitur .find()\n",
      "0\n",
      "5\n",
      ">>> Fitur .count()\n",
      "3\n"
     ]
    }
   ],
   "source": [
    "teks = \"Apel malang adalah apel termanis dibanding apel-apel lainnya\"\n",
    "# Fitur .find()\n",
    "print(\">>> Fitur .find()\")\n",
    "print(teks.find(\"Apel\"))\n",
    "print(teks.find(\"malang\"))\n",
    "# Fitur .count()\n",
    "print(\">>> Fitur .count()\")\n",
    "kemunculan_kata_apel = teks.count(\"apel\")\n",
    "print(kemunculan_kata_apel)"
   ]
  },
  {
   "cell_type": "code",
   "execution_count": 7,
   "id": "9909b4cb",
   "metadata": {},
   "outputs": [
    {
     "name": "stdout",
     "output_type": "stream",
     "text": [
      ">>> Fitur .startswith()\n",
      "True\n",
      "False\n",
      ">>> Fitur .endswith()\n",
      "True\n",
      "False\n"
     ]
    }
   ],
   "source": [
    "# Fitur .startswith()\n",
    "print(\">>> Fitur .startswith()\")\n",
    "teks = \"Apel malang adalah apel termanis dibanding apel-apel lainnya\"\n",
    "print(teks.startswith(\"Apel\"))\n",
    "print(teks.startswith(\"apel\"))\n",
    "# Fitur .endswith()\n",
    "print(\">>> Fitur .endswith()\")\n",
    "print(teks.endswith(\"lainnya\"))\n",
    "print(teks.endswith(\"apel\"))"
   ]
  },
  {
   "cell_type": "code",
   "execution_count": 8,
   "id": "1a6da9f4",
   "metadata": {},
   "outputs": [
    {
     "name": "stdout",
     "output_type": "stream",
     "text": [
      "10\n",
      "11\n"
     ]
    }
   ],
   "source": [
    "#Tugas Praktek 1\n",
    "judul_artikel = [\n",
    "\"Buah Salak Baik untuk Mata\", \"Buah Salak Kaya Potasium\", \n",
    "\"Buah Jeruk Kaya Vitamin C\", \"Buah Salak Kaya Manfaat\", \n",
    "\"Salak Baik untuk Jantung\", \"Jeruk dapat Memperkuat Tulang\", \n",
    "\"Jeruk Mencegah Penyakit Asma\", \"Jeruk Memperkuat Gigi\", \n",
    "\"Jeruk Mencegah Kolesterol Jahat\", \"Salak Mencegah Diabetes\", \n",
    "\"Salak Memperkuat Dinding Usus\", \"Salak Baik untuk Darah\",\n",
    "\"Jeruk Kaya Manfaat untuk Jantung\", \"Salak si Kecil yang Baik\", \n",
    "\"Jeruk dan Salak Buah Kaya Manfaat\", \"Buah Jeruk Enak\",\n",
    "\"Tips Panen Jeruk Ribuan Kilo\", \"Tips Bertanam Salak\", \n",
    "\"Salak Manis untuk Berbuka\", \"Jeruk Baik untuk Wajah\"\n",
    "]\n",
    "jumlah_artikel_jeruk =0\n",
    "jumlah_artikel_salak =0\n",
    "for judul in judul_artikel:\n",
    "    if judul.count(\"Jeruk\") > 0: \n",
    "        jumlah_artikel_jeruk += 1\n",
    "    if judul.count(\"Salak\") > 0:\n",
    "        jumlah_artikel_salak += 1\n",
    "print(jumlah_artikel_jeruk) \n",
    "print(jumlah_artikel_salak)"
   ]
  },
  {
   "cell_type": "code",
   "execution_count": 9,
   "id": "94a10e33",
   "metadata": {},
   "outputs": [
    {
     "name": "stdout",
     "output_type": "stream",
     "text": [
      "8\n",
      "9\n"
     ]
    }
   ],
   "source": [
    "#Tugas Praktek 2\n",
    "judul_artikel = [\n",
    "\"Buah Salak Baik untuk Mata\", \"Buah Salak Kaya Potasium\", \n",
    "\"Buah Jeruk Kaya Vitamin C\", \"Buah Salak Kaya Manfaat\", \n",
    "\"Salak Baik untuk Jantung\", \"Jeruk dapat Memperkuat Tulang\", \n",
    "\"Jeruk Mencegah Penyakit Asma\", \"Jeruk Memperkuat Gigi\", \n",
    "\"Jeruk Mencegah Kolesterol Jahat\", \"Salak Mencegah Diabetes\", \n",
    "\"Salak Memperkuat Dinding Usus\", \"Salak Baik untuk Darah\",\n",
    "\"Jeruk Kaya Manfaat untuk Jantung\", \"Salak si Kecil yang Baik\", \n",
    "\"Jeruk dan Salak Buah Kaya Manfaat\", \"Buah Jeruk Enak\",\n",
    "\"Tips Panen Jeruk Ribuan Kilo\", \"Tips Bertanam Salak\", \n",
    "\"Salak Manis untuk Berbuka\", \"Jeruk Baik untuk Wajah\"\n",
    "]\n",
    "kata_positif =[\"Kaya\", \"Baik\", \"Mencegah\", \"Memperkuat\"]\n",
    "kata_positif_jeruk =0\n",
    "kata_positif_salak =0\n",
    "for judul in judul_artikel: \n",
    "    for kata in kata_positif:\n",
    "        if judul.count(\"Jeruk\")>0 and judul.count(kata)>0: \n",
    "            kata_positif_jeruk += 1\n",
    "        if judul.count(\"Salak\")>0 and judul.count(kata)>0:\n",
    "            kata_positif_salak += 1\n",
    "print(kata_positif_jeruk) \n",
    "print(kata_positif_salak)"
   ]
  }
 ],
 "metadata": {
  "kernelspec": {
   "display_name": "Python 3",
   "language": "python",
   "name": "python3"
  },
  "language_info": {
   "codemirror_mode": {
    "name": "ipython",
    "version": 3
   },
   "file_extension": ".py",
   "mimetype": "text/x-python",
   "name": "python",
   "nbconvert_exporter": "python",
   "pygments_lexer": "ipython3",
   "version": "3.8.8"
  }
 },
 "nbformat": 4,
 "nbformat_minor": 5
}
